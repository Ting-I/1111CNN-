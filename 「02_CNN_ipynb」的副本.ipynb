{
  "nbformat": 4,
  "nbformat_minor": 0,
  "metadata": {
    "kernelspec": {
      "display_name": "Python 3",
      "language": "python",
      "name": "python3"
    },
    "language_info": {
      "codemirror_mode": {
        "name": "ipython",
        "version": 3
      },
      "file_extension": ".py",
      "mimetype": "text/x-python",
      "name": "python",
      "nbconvert_exporter": "python",
      "pygments_lexer": "ipython3",
      "version": "3.7.3"
    },
    "colab": {
      "name": "「02 CNN.ipynb」的副本",
      "provenance": []
    },
    "accelerator": "GPU",
    "widgets": {
      "application/vnd.jupyter.widget-state+json": {
        "14959339605d4c86bab214ac49e161be": {
          "model_module": "@jupyter-widgets/controls",
          "model_name": "VBoxModel",
          "state": {
            "_view_name": "VBoxView",
            "_dom_classes": [
              "widget-interact"
            ],
            "_model_name": "VBoxModel",
            "_view_module": "@jupyter-widgets/controls",
            "_model_module_version": "1.5.0",
            "_view_count": null,
            "_view_module_version": "1.5.0",
            "box_style": "",
            "layout": "IPY_MODEL_242c1b5bc7384f4a9b9ccf3daeb1da68",
            "_model_module": "@jupyter-widgets/controls",
            "children": [
              "IPY_MODEL_a1780d444aae4f87be55f6a0922d7b91",
              "IPY_MODEL_58c19d70ad2142ed90c434d98aa0fab0",
              "IPY_MODEL_5b42fd9264304f12b13d9e1fd19da81c"
            ]
          }
        },
        "242c1b5bc7384f4a9b9ccf3daeb1da68": {
          "model_module": "@jupyter-widgets/base",
          "model_name": "LayoutModel",
          "state": {
            "_view_name": "LayoutView",
            "grid_template_rows": null,
            "right": null,
            "justify_content": null,
            "_view_module": "@jupyter-widgets/base",
            "overflow": null,
            "_model_module_version": "1.2.0",
            "_view_count": null,
            "flex_flow": null,
            "width": null,
            "min_width": null,
            "border": null,
            "align_items": null,
            "bottom": null,
            "_model_module": "@jupyter-widgets/base",
            "top": null,
            "grid_column": null,
            "overflow_y": null,
            "overflow_x": null,
            "grid_auto_flow": null,
            "grid_area": null,
            "grid_template_columns": null,
            "flex": null,
            "_model_name": "LayoutModel",
            "justify_items": null,
            "grid_row": null,
            "max_height": null,
            "align_content": null,
            "visibility": null,
            "align_self": null,
            "height": null,
            "min_height": null,
            "padding": null,
            "grid_auto_rows": null,
            "grid_gap": null,
            "max_width": null,
            "order": null,
            "_view_module_version": "1.2.0",
            "grid_template_areas": null,
            "object_position": null,
            "object_fit": null,
            "grid_auto_columns": null,
            "margin": null,
            "display": null,
            "left": null
          }
        },
        "a1780d444aae4f87be55f6a0922d7b91": {
          "model_module": "@jupyter-widgets/controls",
          "model_name": "IntSliderModel",
          "state": {
            "_view_name": "IntSliderView",
            "style": "IPY_MODEL_bbbc38cbe93042b2be622030deaed396",
            "_dom_classes": [],
            "description": "n",
            "step": 1,
            "_model_name": "IntSliderModel",
            "orientation": "horizontal",
            "max": 9999,
            "_view_module": "@jupyter-widgets/controls",
            "_model_module_version": "1.5.0",
            "value": 1596,
            "_view_count": null,
            "disabled": false,
            "_view_module_version": "1.5.0",
            "min": 0,
            "continuous_update": true,
            "readout_format": "d",
            "description_tooltip": null,
            "readout": true,
            "_model_module": "@jupyter-widgets/controls",
            "layout": "IPY_MODEL_a1e3f00008c2435f8e6ccc60ab8e7c79"
          }
        },
        "58c19d70ad2142ed90c434d98aa0fab0": {
          "model_module": "@jupyter-widgets/controls",
          "model_name": "ButtonModel",
          "state": {
            "_view_name": "ButtonView",
            "style": "IPY_MODEL_637533f92b994e5bab40cf97a682a732",
            "_dom_classes": [],
            "description": "Run Interact",
            "_model_name": "ButtonModel",
            "button_style": "",
            "_view_module": "@jupyter-widgets/controls",
            "_model_module_version": "1.5.0",
            "tooltip": "",
            "_view_count": null,
            "disabled": false,
            "_view_module_version": "1.5.0",
            "layout": "IPY_MODEL_74a0b42a3f68462d9f1264e9836e8f80",
            "_model_module": "@jupyter-widgets/controls",
            "icon": ""
          }
        },
        "5b42fd9264304f12b13d9e1fd19da81c": {
          "model_module": "@jupyter-widgets/output",
          "model_name": "OutputModel",
          "state": {
            "_view_name": "OutputView",
            "msg_id": "",
            "_dom_classes": [],
            "_model_name": "OutputModel",
            "outputs": [
              {
                "output_type": "stream",
                "metadata": {
                  "tags": []
                },
                "text": "我可愛的 CNN 預測是 9\n",
                "stream": "stdout"
              },
              {
                "output_type": "display_data",
                "metadata": {
                  "tags": [],
                  "needs_background": "light"
                },
                "image/png": "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\n",
                "text/plain": "<Figure size 432x288 with 1 Axes>"
              }
            ],
            "_view_module": "@jupyter-widgets/output",
            "_model_module_version": "1.0.0",
            "_view_count": null,
            "_view_module_version": "1.0.0",
            "layout": "IPY_MODEL_7ce0edcdc1a04be7a410693155c3201c",
            "_model_module": "@jupyter-widgets/output"
          }
        },
        "bbbc38cbe93042b2be622030deaed396": {
          "model_module": "@jupyter-widgets/controls",
          "model_name": "SliderStyleModel",
          "state": {
            "_view_name": "StyleView",
            "handle_color": null,
            "_model_name": "SliderStyleModel",
            "description_width": "",
            "_view_module": "@jupyter-widgets/base",
            "_model_module_version": "1.5.0",
            "_view_count": null,
            "_view_module_version": "1.2.0",
            "_model_module": "@jupyter-widgets/controls"
          }
        },
        "a1e3f00008c2435f8e6ccc60ab8e7c79": {
          "model_module": "@jupyter-widgets/base",
          "model_name": "LayoutModel",
          "state": {
            "_view_name": "LayoutView",
            "grid_template_rows": null,
            "right": null,
            "justify_content": null,
            "_view_module": "@jupyter-widgets/base",
            "overflow": null,
            "_model_module_version": "1.2.0",
            "_view_count": null,
            "flex_flow": null,
            "width": null,
            "min_width": null,
            "border": null,
            "align_items": null,
            "bottom": null,
            "_model_module": "@jupyter-widgets/base",
            "top": null,
            "grid_column": null,
            "overflow_y": null,
            "overflow_x": null,
            "grid_auto_flow": null,
            "grid_area": null,
            "grid_template_columns": null,
            "flex": null,
            "_model_name": "LayoutModel",
            "justify_items": null,
            "grid_row": null,
            "max_height": null,
            "align_content": null,
            "visibility": null,
            "align_self": null,
            "height": null,
            "min_height": null,
            "padding": null,
            "grid_auto_rows": null,
            "grid_gap": null,
            "max_width": null,
            "order": null,
            "_view_module_version": "1.2.0",
            "grid_template_areas": null,
            "object_position": null,
            "object_fit": null,
            "grid_auto_columns": null,
            "margin": null,
            "display": null,
            "left": null
          }
        },
        "637533f92b994e5bab40cf97a682a732": {
          "model_module": "@jupyter-widgets/controls",
          "model_name": "ButtonStyleModel",
          "state": {
            "_view_name": "StyleView",
            "_model_name": "ButtonStyleModel",
            "_view_module": "@jupyter-widgets/base",
            "_model_module_version": "1.5.0",
            "_view_count": null,
            "button_color": null,
            "font_weight": "",
            "_view_module_version": "1.2.0",
            "_model_module": "@jupyter-widgets/controls"
          }
        },
        "74a0b42a3f68462d9f1264e9836e8f80": {
          "model_module": "@jupyter-widgets/base",
          "model_name": "LayoutModel",
          "state": {
            "_view_name": "LayoutView",
            "grid_template_rows": null,
            "right": null,
            "justify_content": null,
            "_view_module": "@jupyter-widgets/base",
            "overflow": null,
            "_model_module_version": "1.2.0",
            "_view_count": null,
            "flex_flow": null,
            "width": null,
            "min_width": null,
            "border": null,
            "align_items": null,
            "bottom": null,
            "_model_module": "@jupyter-widgets/base",
            "top": null,
            "grid_column": null,
            "overflow_y": null,
            "overflow_x": null,
            "grid_auto_flow": null,
            "grid_area": null,
            "grid_template_columns": null,
            "flex": null,
            "_model_name": "LayoutModel",
            "justify_items": null,
            "grid_row": null,
            "max_height": null,
            "align_content": null,
            "visibility": null,
            "align_self": null,
            "height": null,
            "min_height": null,
            "padding": null,
            "grid_auto_rows": null,
            "grid_gap": null,
            "max_width": null,
            "order": null,
            "_view_module_version": "1.2.0",
            "grid_template_areas": null,
            "object_position": null,
            "object_fit": null,
            "grid_auto_columns": null,
            "margin": null,
            "display": null,
            "left": null
          }
        },
        "7ce0edcdc1a04be7a410693155c3201c": {
          "model_module": "@jupyter-widgets/base",
          "model_name": "LayoutModel",
          "state": {
            "_view_name": "LayoutView",
            "grid_template_rows": null,
            "right": null,
            "justify_content": null,
            "_view_module": "@jupyter-widgets/base",
            "overflow": null,
            "_model_module_version": "1.2.0",
            "_view_count": null,
            "flex_flow": null,
            "width": null,
            "min_width": null,
            "border": null,
            "align_items": null,
            "bottom": null,
            "_model_module": "@jupyter-widgets/base",
            "top": null,
            "grid_column": null,
            "overflow_y": null,
            "overflow_x": null,
            "grid_auto_flow": null,
            "grid_area": null,
            "grid_template_columns": null,
            "flex": null,
            "_model_name": "LayoutModel",
            "justify_items": null,
            "grid_row": null,
            "max_height": null,
            "align_content": null,
            "visibility": null,
            "align_self": null,
            "height": null,
            "min_height": null,
            "padding": null,
            "grid_auto_rows": null,
            "grid_gap": null,
            "max_width": null,
            "order": null,
            "_view_module_version": "1.2.0",
            "grid_template_areas": null,
            "object_position": null,
            "object_fit": null,
            "grid_auto_columns": null,
            "margin": null,
            "display": null,
            "left": null
          }
        }
      }
    }
  },
  "cells": [
    {
      "cell_type": "code",
      "metadata": {
        "id": "8o_smI4I-WVf"
      },
      "source": [
        "%matplotlib inline\n",
        "\n",
        "import numpy as np\n",
        "import matplotlib.pyplot as plt\n",
        "import pandas as pd"
      ],
      "execution_count": 1,
      "outputs": []
    },
    {
      "cell_type": "code",
      "metadata": {
        "id": "q-SQI96s-WVj"
      },
      "source": [
        "from tensorflow.keras.utils import to_categorical\n",
        "from tensorflow.keras.models import Sequential\n",
        "from tensorflow.keras.layers import Conv2D, MaxPooling2D#因為圖形所以2d\n",
        "from tensorflow.keras.layers import Dense, Flatten\n",
        "from tensorflow.keras.optimizers import SGD"
      ],
      "execution_count": 2,
      "outputs": []
    },
    {
      "cell_type": "markdown",
      "metadata": {
        "id": "Na33wlfS-WVm"
      },
      "source": [
        "### 1. 讀入 MNSIT 數據集"
      ]
    },
    {
      "cell_type": "code",
      "metadata": {
        "id": "hrY0n6JE-WVm"
      },
      "source": [
        "from tensorflow.keras.datasets import mnist"
      ],
      "execution_count": 3,
      "outputs": []
    },
    {
      "cell_type": "code",
      "metadata": {
        "id": "PwPWQZPW-WVp",
        "outputId": "c3e0d58f-e805-490f-ab1c-096e5dd4157c",
        "colab": {
          "base_uri": "https://localhost:8080/"
        }
      },
      "source": [
        "(x_train, y_train), (x_test, y_test) = mnist.load_data()"
      ],
      "execution_count": 4,
      "outputs": [
        {
          "output_type": "stream",
          "text": [
            "Downloading data from https://storage.googleapis.com/tensorflow/tf-keras-datasets/mnist.npz\n",
            "11493376/11490434 [==============================] - 0s 0us/step\n"
          ],
          "name": "stdout"
        }
      ]
    },
    {
      "cell_type": "markdown",
      "metadata": {
        "id": "TyrnXWGV-WVs"
      },
      "source": [
        "### 2. 資料整理"
      ]
    },
    {
      "cell_type": "markdown",
      "metadata": {
        "id": "qLftKaS6-WVs"
      },
      "source": [
        "### Channel\n",
        "\n",
        "CNN 要注意一張圖有多少個 channel, 開始我們因為只有灰階, 所以只有一個 channel。因此我們要轉一下我們的資料格式:\n",
        "\n",
        "    (28,28) --> (28, 28, 1)"
      ]
    },
    {
      "cell_type": "code",
      "metadata": {
        "id": "PLM7T0P--WVs"
      },
      "source": [
        "x_train = x_train.reshape(60000, 28, 28, 1) / 255"
      ],
      "execution_count": 5,
      "outputs": []
    },
    {
      "cell_type": "code",
      "metadata": {
        "id": "_RKCeY4g-WVv"
      },
      "source": [
        "x_test = x_test.reshape(10000, 28, 28, 1) / 255"
      ],
      "execution_count": 6,
      "outputs": []
    },
    {
      "cell_type": "code",
      "metadata": {
        "id": "zwbCbcWb-WVx"
      },
      "source": [
        "y_train = to_categorical(y_train, 10)\n",
        "y_test = to_categorical(y_test, 10)"
      ],
      "execution_count": 7,
      "outputs": []
    },
    {
      "cell_type": "markdown",
      "metadata": {
        "id": "thSu4aNV-WV0"
      },
      "source": [
        "### 3. step 1: 打造函數學習機 (CNN)"
      ]
    },
    {
      "cell_type": "code",
      "metadata": {
        "id": "HZbHVhYF-WV0"
      },
      "source": [
        "model = Sequential()#打開空白函數學習機"
      ],
      "execution_count": 8,
      "outputs": []
    },
    {
      "cell_type": "code",
      "metadata": {
        "id": "6DMtzmzN-WV2"
      },
      "source": [
        "model.add(Conv2D(8, (3,3), padding='same',\n",
        "                input_shape=(28,28,1),\n",
        "                activation='relu'))"
      ],
      "execution_count": 9,
      "outputs": []
    },
    {
      "cell_type": "code",
      "metadata": {
        "id": "y5ZN6R4U-WV4"
      },
      "source": [
        "model.add(MaxPooling2D(pool_size=(2,2)))"
      ],
      "execution_count": 10,
      "outputs": []
    },
    {
      "cell_type": "code",
      "metadata": {
        "id": "ptyOfw0_-WV6"
      },
      "source": [
        "model.add(Conv2D(16, (3,3), padding='same',\n",
        "                activation='relu'))"
      ],
      "execution_count": 11,
      "outputs": []
    },
    {
      "cell_type": "code",
      "metadata": {
        "id": "NmR7MZlP-WV9"
      },
      "source": [
        "model.add(MaxPooling2D(pool_size=(2,2)))"
      ],
      "execution_count": 12,
      "outputs": []
    },
    {
      "cell_type": "code",
      "metadata": {
        "id": "1Oa_Ywys-WV_"
      },
      "source": [
        "model.add(Conv2D(32, (3,3), padding='same',\n",
        "                activation='relu'))"
      ],
      "execution_count": 13,
      "outputs": []
    },
    {
      "cell_type": "code",
      "metadata": {
        "id": "tO65HeN1-WWB"
      },
      "source": [
        "model.add(MaxPooling2D(pool_size=(2,2)))"
      ],
      "execution_count": 14,
      "outputs": []
    },
    {
      "cell_type": "code",
      "metadata": {
        "id": "eYvBqeeq-WWD"
      },
      "source": [
        "model.add(Flatten())#將計分板拉成向量"
      ],
      "execution_count": 15,
      "outputs": []
    },
    {
      "cell_type": "code",
      "metadata": {
        "id": "GE4yEwpi-WWF"
      },
      "source": [
        "model.add(Dense(20, activation='relu'))"
      ],
      "execution_count": 16,
      "outputs": []
    },
    {
      "cell_type": "code",
      "metadata": {
        "id": "5BreRhG0-WWH"
      },
      "source": [
        "model.add(Dense(10, activation='softmax'))"
      ],
      "execution_count": 17,
      "outputs": []
    },
    {
      "cell_type": "markdown",
      "metadata": {
        "id": "s_VgSrsI-WWJ"
      },
      "source": [
        "#### 看一下我們的神經網路"
      ]
    },
    {
      "cell_type": "code",
      "metadata": {
        "id": "hwaZyI0K-WWJ",
        "outputId": "e16f7a37-12bf-4575-98e4-8fc7dc22d6bb",
        "colab": {
          "base_uri": "https://localhost:8080/"
        }
      },
      "source": [
        "model.summary()"
      ],
      "execution_count": 18,
      "outputs": [
        {
          "output_type": "stream",
          "text": [
            "Model: \"sequential\"\n",
            "_________________________________________________________________\n",
            "Layer (type)                 Output Shape              Param #   \n",
            "=================================================================\n",
            "conv2d (Conv2D)              (None, 28, 28, 8)         80        \n",
            "_________________________________________________________________\n",
            "max_pooling2d (MaxPooling2D) (None, 14, 14, 8)         0         \n",
            "_________________________________________________________________\n",
            "conv2d_1 (Conv2D)            (None, 14, 14, 16)        1168      \n",
            "_________________________________________________________________\n",
            "max_pooling2d_1 (MaxPooling2 (None, 7, 7, 16)          0         \n",
            "_________________________________________________________________\n",
            "conv2d_2 (Conv2D)            (None, 7, 7, 32)          4640      \n",
            "_________________________________________________________________\n",
            "max_pooling2d_2 (MaxPooling2 (None, 3, 3, 32)          0         \n",
            "_________________________________________________________________\n",
            "flatten (Flatten)            (None, 288)               0         \n",
            "_________________________________________________________________\n",
            "dense (Dense)                (None, 20)                5780      \n",
            "_________________________________________________________________\n",
            "dense_1 (Dense)              (None, 10)                210       \n",
            "=================================================================\n",
            "Total params: 11,878\n",
            "Trainable params: 11,878\n",
            "Non-trainable params: 0\n",
            "_________________________________________________________________\n"
          ],
          "name": "stdout"
        }
      ]
    },
    {
      "cell_type": "markdown",
      "metadata": {
        "id": "vX3Ubk22-WWN"
      },
      "source": [
        "#### 組裝"
      ]
    },
    {
      "cell_type": "code",
      "metadata": {
        "id": "1ASyiZuH-WWO"
      },
      "source": [
        "model.compile(loss='mse', optimizer=SGD(lr=0.087),\n",
        "             metrics=['accuracy'])"
      ],
      "execution_count": 19,
      "outputs": []
    },
    {
      "cell_type": "markdown",
      "metadata": {
        "id": "eTy6BfPg-WWR"
      },
      "source": [
        "### 4. step 2: fit"
      ]
    },
    {
      "cell_type": "code",
      "metadata": {
        "scrolled": true,
        "id": "uWVT9fwW-WWS",
        "outputId": "dec655d2-e84a-486a-df37-f1c85b5d0799",
        "colab": {
          "base_uri": "https://localhost:8080/"
        }
      },
      "source": [
        "model.fit(x_train, y_train, batch_size=128, epochs=12)"
      ],
      "execution_count": 20,
      "outputs": [
        {
          "output_type": "stream",
          "text": [
            "Epoch 1/12\n",
            "469/469 [==============================] - 2s 4ms/step - loss: 0.0896 - accuracy: 0.1346\n",
            "Epoch 2/12\n",
            "469/469 [==============================] - 2s 4ms/step - loss: 0.0886 - accuracy: 0.2384\n",
            "Epoch 3/12\n",
            "469/469 [==============================] - 2s 4ms/step - loss: 0.0845 - accuracy: 0.2985\n",
            "Epoch 4/12\n",
            "469/469 [==============================] - 2s 4ms/step - loss: 0.0593 - accuracy: 0.5926\n",
            "Epoch 5/12\n",
            "469/469 [==============================] - 2s 4ms/step - loss: 0.0292 - accuracy: 0.8094\n",
            "Epoch 6/12\n",
            "469/469 [==============================] - 2s 4ms/step - loss: 0.0203 - accuracy: 0.8637\n",
            "Epoch 7/12\n",
            "469/469 [==============================] - 2s 4ms/step - loss: 0.0163 - accuracy: 0.8921\n",
            "Epoch 8/12\n",
            "469/469 [==============================] - 2s 4ms/step - loss: 0.0137 - accuracy: 0.9096\n",
            "Epoch 9/12\n",
            "469/469 [==============================] - 2s 4ms/step - loss: 0.0118 - accuracy: 0.9224\n",
            "Epoch 10/12\n",
            "469/469 [==============================] - 2s 4ms/step - loss: 0.0107 - accuracy: 0.9303\n",
            "Epoch 11/12\n",
            "469/469 [==============================] - 2s 4ms/step - loss: 0.0096 - accuracy: 0.9378\n",
            "Epoch 12/12\n",
            "469/469 [==============================] - 2s 4ms/step - loss: 0.0087 - accuracy: 0.9438\n"
          ],
          "name": "stdout"
        },
        {
          "output_type": "execute_result",
          "data": {
            "text/plain": [
              "<tensorflow.python.keras.callbacks.History at 0x7fc2e044ff60>"
            ]
          },
          "metadata": {
            "tags": []
          },
          "execution_count": 20
        }
      ]
    },
    {
      "cell_type": "markdown",
      "metadata": {
        "id": "HygujUwR-WWW"
      },
      "source": [
        "### Step 3. 預測"
      ]
    },
    {
      "cell_type": "code",
      "metadata": {
        "id": "6DBuW2IG-WWW",
        "outputId": "c3434937-3ada-4a03-d7a7-049e53d0b844",
        "colab": {
          "base_uri": "https://localhost:8080/"
        }
      },
      "source": [
        "result = model.predict_classes(x_test)"
      ],
      "execution_count": 21,
      "outputs": [
        {
          "output_type": "stream",
          "text": [
            "WARNING:tensorflow:From <ipython-input-21-63af5bb2f9b6>:1: Sequential.predict_classes (from tensorflow.python.keras.engine.sequential) is deprecated and will be removed after 2021-01-01.\n",
            "Instructions for updating:\n",
            "Please use instead:* `np.argmax(model.predict(x), axis=-1)`,   if your model does multi-class classification   (e.g. if it uses a `softmax` last-layer activation).* `(model.predict(x) > 0.5).astype(\"int32\")`,   if your model does binary classification   (e.g. if it uses a `sigmoid` last-layer activation).\n"
          ],
          "name": "stdout"
        }
      ]
    },
    {
      "cell_type": "markdown",
      "metadata": {
        "id": "8OL4j2gG-WWZ"
      },
      "source": [
        "### 看看測試資料表現如何"
      ]
    },
    {
      "cell_type": "code",
      "metadata": {
        "id": "5sQtGjya-WWZ",
        "outputId": "c44580f3-1c5f-4179-8ea4-5a6112b9cfa6",
        "colab": {
          "base_uri": "https://localhost:8080/"
        }
      },
      "source": [
        "loss, acc = model.evaluate(x_test, y_test)"
      ],
      "execution_count": 22,
      "outputs": [
        {
          "output_type": "stream",
          "text": [
            "313/313 [==============================] - 1s 3ms/step - loss: 0.0083 - accuracy: 0.9447\n"
          ],
          "name": "stdout"
        }
      ]
    },
    {
      "cell_type": "code",
      "metadata": {
        "id": "9xXljJhS-WWe",
        "outputId": "f1b9093d-9523-4c21-a716-ef7dd14731d1",
        "colab": {
          "base_uri": "https://localhost:8080/"
        }
      },
      "source": [
        "print(f'測試資料的正確率為 {acc*100:.2f}%')"
      ],
      "execution_count": 23,
      "outputs": [
        {
          "output_type": "stream",
          "text": [
            "測試資料的正確率為 94.47%\n"
          ],
          "name": "stdout"
        }
      ]
    },
    {
      "cell_type": "code",
      "metadata": {
        "id": "yDtunI4t-WWi"
      },
      "source": [
        "def my_predict(n):\n",
        "    print('我可愛的 CNN 預測是', result[n])\n",
        "    X = x_test[n].reshape(28,28)\n",
        "    plt.imshow(X, cmap='Greys')"
      ],
      "execution_count": 24,
      "outputs": []
    },
    {
      "cell_type": "code",
      "metadata": {
        "id": "mBaZOEiH-WWl"
      },
      "source": [
        "from ipywidgets import interact_manual"
      ],
      "execution_count": 25,
      "outputs": []
    },
    {
      "cell_type": "code",
      "metadata": {
        "id": "5HMbFey6-WWo",
        "outputId": "ed6a53e0-e276-4dc1-d56d-4115ee3ec758",
        "colab": {
          "base_uri": "https://localhost:8080/",
          "height": 347,
          "referenced_widgets": [
            "14959339605d4c86bab214ac49e161be",
            "242c1b5bc7384f4a9b9ccf3daeb1da68",
            "a1780d444aae4f87be55f6a0922d7b91",
            "58c19d70ad2142ed90c434d98aa0fab0",
            "5b42fd9264304f12b13d9e1fd19da81c",
            "bbbc38cbe93042b2be622030deaed396",
            "a1e3f00008c2435f8e6ccc60ab8e7c79",
            "637533f92b994e5bab40cf97a682a732",
            "74a0b42a3f68462d9f1264e9836e8f80",
            "7ce0edcdc1a04be7a410693155c3201c"
          ]
        }
      },
      "source": [
        "interact_manual(my_predict, n=(0, 9999));"
      ],
      "execution_count": 26,
      "outputs": [
        {
          "output_type": "display_data",
          "data": {
            "application/vnd.jupyter.widget-view+json": {
              "model_id": "14959339605d4c86bab214ac49e161be",
              "version_minor": 0,
              "version_major": 2
            },
            "text/plain": [
              "interactive(children=(IntSlider(value=4999, description='n', max=9999), Button(description='Run Interact', sty…"
            ]
          },
          "metadata": {
            "tags": []
          }
        }
      ]
    },
    {
      "cell_type": "markdown",
      "metadata": {
        "id": "N3mEEvHz-WWq"
      },
      "source": [
        "### 把我們的 model 存起來"
      ]
    },
    {
      "cell_type": "code",
      "metadata": {
        "id": "Mernp9IK-WWq"
      },
      "source": [
        "model.save('myCNNmodel.h5')"
      ],
      "execution_count": 27,
      "outputs": []
    }
  ]
}